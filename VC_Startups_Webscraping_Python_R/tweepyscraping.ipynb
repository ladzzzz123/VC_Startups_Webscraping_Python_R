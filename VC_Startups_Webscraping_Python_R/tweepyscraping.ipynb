{
 "cells": [
  {
   "cell_type": "code",
   "execution_count": null,
   "metadata": {
    "collapsed": true
   },
   "outputs": [],
   "source": [
    "# extract data from Twitter with tweepy\n",
    "import csv\n",
    "fil = open('companies_mdf.csv') # 'companies_mdf.csv' is the dataset after the first preprocessing with R\n",
    "csv_f = csv.reader(fil)\n",
    "name_list = []\n",
    "\n",
    "# get the list of companies' names from previous data file\n",
    "for row in csv_f:\n",
    "    name_list.append(row[11])  # '11' is the index of the column which stores information of companies' name"
   ]
  },
  {
   "cell_type": "code",
   "execution_count": null,
   "metadata": {
    "collapsed": true
   },
   "outputs": [],
   "source": [
    "import time\n",
    "import tweepy\n",
    "import codecs\n",
    "\n",
    "auth = tweepy.OAuthHandler('...', '...') # private access code\n",
    "auth.set_access_token('...', '...') # private access code\n",
    "api = tweepy.API(auth)"
   ]
  },
  {
   "cell_type": "code",
   "execution_count": null,
   "metadata": {
    "collapsed": true
   },
   "outputs": [],
   "source": [
    "twt = []\n",
    "k = 0\n",
    "for name in name_list[1:]: # start from 1 due to the header\n",
    "    try:\n",
    "        company = {}\n",
    "        user = api.get_user(screen_name = name)\n",
    "        company['name'] = name\n",
    "        print company['name'] # used for check the process of crawling\n",
    "        \n",
    "        company['friends_num'] = user.friends_count\n",
    "        print company['friends_num'] # used for check the process of crawling\n",
    "        \n",
    "        company['followers_num'] = user.followers_count\n",
    "        print company['followers_num'] # used for check the process of crawling\n",
    "        \n",
    "        company['statuses_num'] = user.statuses_count\n",
    "        print company['statuses_num'] # used for check the process of crawling\n",
    "        \n",
    "        company['favourites_num'] = user.favourites_count\n",
    "        print  company['favourites_num'] # used for check the process of crawling\n",
    "    \n",
    "    \n",
    "    except tweepy.RateLimitError:\n",
    "        print '********* Rate Limit Error *********'\n",
    "        time.sleep(60*16) # handle rate limit problem due to Tweety's policy\n",
    "        company['name'] = name\n",
    "        company['friends_num'] = user.friends_count\n",
    "        company['followers_num'] = user.followers_count\n",
    "        company['statuses_num'] = user.statuses_count\n",
    "        company['favourites_num'] = user.favourites_count\n",
    "\n",
    "    except tweepy.TweepError:\n",
    "        company['name'] = name\n",
    "        company['friends_num'] = None\n",
    "        company['followers_num'] = None\n",
    "        company['statuses_num'] = None\n",
    "        company['favourites_num'] = None\n",
    "        \n",
    "    twt.append(company)\n",
    "    k = k+1\n",
    "    print '############## %d ############' % k # used for check the process of crawling"
   ]
  },
  {
   "cell_type": "code",
   "execution_count": null,
   "metadata": {
    "collapsed": true
   },
   "outputs": [],
   "source": [
    "# store data extracted from Twitter into another data file\n",
    "f = codecs.open('twitter.csv', 'w', 'utf-8')\n",
    "twt_data = pd.DataFrame(twt)\n",
    "twt_data.to_csv('twitter.csv')\n",
    "f.close()"
   ]
  }
 ],
 "metadata": {
  "kernelspec": {
   "display_name": "Python [Root]",
   "language": "python",
   "name": "Python [Root]"
  },
  "language_info": {
   "codemirror_mode": {
    "name": "ipython",
    "version": 2
   },
   "file_extension": ".py",
   "mimetype": "text/x-python",
   "name": "python",
   "nbconvert_exporter": "python",
   "pygments_lexer": "ipython2",
   "version": "2.7.11"
  }
 },
 "nbformat": 4,
 "nbformat_minor": 0
}
